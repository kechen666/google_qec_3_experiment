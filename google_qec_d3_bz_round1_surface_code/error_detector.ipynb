{
 "cells": [
  {
   "cell_type": "markdown",
   "metadata": {},
   "source": [
    "# 实验一"
   ]
  },
  {
   "cell_type": "code",
   "execution_count": 95,
   "metadata": {},
   "outputs": [
    {
     "name": "stdout",
     "output_type": "stream",
     "text": [
      "1.13.0\n"
     ]
    },
    {
     "data": {
      "image/svg+xml": [
       "<svg viewBox=\"0 0 864 288\"  version=\"1.1\" xmlns=\"http://www.w3.org/2000/svg\">\n",
       "<g id=\"qubit_lines\">\n",
       "<path id=\"qubit_line:0\" d=\"M64,64 L832,64 \" stroke=\"black\"/>\n",
       "<text dominant-baseline=\"central\" text-anchor=\"end\" font-family=\"monospace\" font-size=\"12\" x=\"64\" y=\"64\">q0</text>\n",
       "<path id=\"qubit_line:1\" d=\"M64,128 L832,128 \" stroke=\"black\"/>\n",
       "<text dominant-baseline=\"central\" text-anchor=\"end\" font-family=\"monospace\" font-size=\"12\" x=\"64\" y=\"128\">q1</text>\n",
       "<path id=\"qubit_line:2\" d=\"M64,192 L832,192 \" stroke=\"black\"/>\n",
       "<text dominant-baseline=\"central\" text-anchor=\"end\" font-family=\"monospace\" font-size=\"12\" x=\"64\" y=\"192\">q2</text>\n",
       "</g>\n",
       "<rect x=\"144\" y=\"48\" width=\"32\" height=\"32\" stroke=\"black\" fill=\"black\"/>\n",
       "<text dominant-baseline=\"central\" text-anchor=\"middle\" font-family=\"monospace\" font-size=\"30\" x=\"160\" y=\"64\" fill=\"white\">R</text>\n",
       "<rect x=\"144\" y=\"112\" width=\"32\" height=\"32\" stroke=\"black\" fill=\"black\"/>\n",
       "<text dominant-baseline=\"central\" text-anchor=\"middle\" font-family=\"monospace\" font-size=\"30\" x=\"160\" y=\"128\" fill=\"white\">R</text>\n",
       "<rect x=\"144\" y=\"176\" width=\"32\" height=\"32\" stroke=\"black\" fill=\"black\"/>\n",
       "<text dominant-baseline=\"central\" text-anchor=\"middle\" font-family=\"monospace\" font-size=\"30\" x=\"160\" y=\"192\" fill=\"white\">R</text>\n",
       "<path d=\"M224,64 L224,128 \" stroke=\"black\"/>\n",
       "<rect x=\"208\" y=\"48\" width=\"32\" height=\"32\" stroke=\"black\" fill=\"pink\"/>\n",
       "<text dominant-baseline=\"central\" text-anchor=\"middle\" font-family=\"monospace\" font-size=\"12\" x=\"224\" y=\"64\">DEP<tspan baseline-shift=\"sub\" font-size=\"10\">2</tspan></text>\n",
       "<rect x=\"208\" y=\"112\" width=\"32\" height=\"32\" stroke=\"black\" fill=\"pink\"/>\n",
       "<text dominant-baseline=\"central\" text-anchor=\"middle\" font-family=\"monospace\" font-size=\"12\" x=\"224\" y=\"128\">DEP<tspan baseline-shift=\"sub\" font-size=\"10\">2</tspan></text>\n",
       "<text dominant-baseline=\"hanging\" text-anchor=\"middle\" font-family=\"monospace\" font-size=\"10\" stroke=\"red\" x=\"224\" y=\"148\">0.15</text>\n",
       "<rect x=\"208\" y=\"176\" width=\"32\" height=\"32\" stroke=\"black\" fill=\"white\"/>\n",
       "<text dominant-baseline=\"central\" text-anchor=\"middle\" font-family=\"monospace\" font-size=\"30\" x=\"224\" y=\"192\">H</text>\n",
       "<path d=\"M288,128 L288,192 \" stroke=\"black\"/>\n",
       "<circle cx=\"288\" cy=\"192\" r=\"12\" stroke=\"none\" fill=\"black\"/>\n",
       "<circle cx=\"288\" cy=\"128\" r=\"12\" stroke=\"black\" fill=\"white\"/>\n",
       "<path d=\"M276,128 L300,128 M288,116 L288,140 \" stroke=\"black\"/>\n",
       "<path d=\"M352,64 L352,192 \" stroke=\"black\"/>\n",
       "<circle cx=\"352\" cy=\"192\" r=\"12\" stroke=\"none\" fill=\"black\"/>\n",
       "<circle cx=\"352\" cy=\"64\" r=\"12\" stroke=\"black\" fill=\"white\"/>\n",
       "<path d=\"M340,64 L364,64 M352,52 L352,76 \" stroke=\"black\"/>\n",
       "<path d=\"M416,64 L416,192 \" stroke=\"black\"/>\n",
       "<rect x=\"400\" y=\"176\" width=\"32\" height=\"32\" stroke=\"black\" fill=\"pink\"/>\n",
       "<text dominant-baseline=\"central\" text-anchor=\"middle\" font-family=\"monospace\" font-size=\"12\" x=\"416\" y=\"192\">DEP<tspan baseline-shift=\"sub\" font-size=\"10\">2</tspan></text>\n",
       "<text dominant-baseline=\"hanging\" text-anchor=\"middle\" font-family=\"monospace\" font-size=\"10\" stroke=\"red\" x=\"416\" y=\"212\">0.15</text>\n",
       "<rect x=\"400\" y=\"48\" width=\"32\" height=\"32\" stroke=\"black\" fill=\"pink\"/>\n",
       "<text dominant-baseline=\"central\" text-anchor=\"middle\" font-family=\"monospace\" font-size=\"12\" x=\"416\" y=\"64\">DEP<tspan baseline-shift=\"sub\" font-size=\"10\">2</tspan></text>\n",
       "<rect x=\"464\" y=\"176\" width=\"32\" height=\"32\" stroke=\"black\" fill=\"white\"/>\n",
       "<text dominant-baseline=\"central\" text-anchor=\"middle\" font-family=\"monospace\" font-size=\"30\" x=\"480\" y=\"192\">H</text>\n",
       "<path d=\"M132,40 L132,32 L508,32 L508,40 \" stroke=\"black\" fill=\"none\"/>\n",
       "<path d=\"M132,248 L132,256 L508,256 L508,248 \" stroke=\"black\" fill=\"none\"/>\n",
       "<rect x=\"528\" y=\"48\" width=\"32\" height=\"32\" stroke=\"black\" fill=\"black\"/>\n",
       "<text dominant-baseline=\"central\" text-anchor=\"middle\" font-family=\"monospace\" font-size=\"30\" x=\"544\" y=\"64\" fill=\"white\">M</text>\n",
       "<text text-anchor=\"middle\" font-family=\"monospace\" font-size=\"8\" x=\"544\" y=\"44\">rec[0]</text>\n",
       "<rect x=\"528\" y=\"112\" width=\"32\" height=\"32\" stroke=\"black\" fill=\"black\"/>\n",
       "<text dominant-baseline=\"central\" text-anchor=\"middle\" font-family=\"monospace\" font-size=\"30\" x=\"544\" y=\"128\" fill=\"white\">M</text>\n",
       "<text text-anchor=\"middle\" font-family=\"monospace\" font-size=\"8\" x=\"544\" y=\"108\">rec[1]</text>\n",
       "<rect x=\"528\" y=\"176\" width=\"32\" height=\"32\" stroke=\"black\" fill=\"black\"/>\n",
       "<text dominant-baseline=\"central\" text-anchor=\"middle\" font-family=\"monospace\" font-size=\"30\" x=\"544\" y=\"192\" fill=\"white\">M</text>\n",
       "<text text-anchor=\"middle\" font-family=\"monospace\" font-size=\"8\" x=\"544\" y=\"172\">rec[2]</text>\n",
       "<rect x=\"592\" y=\"176\" width=\"160\" height=\"32\" stroke=\"black\" fill=\"lightgray\"/>\n",
       "<text dominant-baseline=\"central\" text-anchor=\"middle\" font-family=\"monospace\" font-size=\"16\" x=\"672\" y=\"192\">DETECTOR</text>\n",
       "<text text-anchor=\"middle\" font-family=\"monospace\" font-size=\"8\" x=\"672\" y=\"172\">D0 = rec[2]</text>\n",
       "<rect x=\"592\" y=\"48\" width=\"224\" height=\"32\" stroke=\"black\" fill=\"lightgray\"/>\n",
       "<text dominant-baseline=\"central\" text-anchor=\"middle\" font-family=\"monospace\" font-size=\"16\" x=\"704\" y=\"64\">OBS_INCLUDE(0)</text>\n",
       "<text text-anchor=\"middle\" font-family=\"monospace\" font-size=\"8\" x=\"704\" y=\"44\">L0 *= rec[1]*rec[0]</text>\n",
       "<path d=\"M516,40 L516,32 L828,32 L828,40 \" stroke=\"black\" fill=\"none\"/>\n",
       "<path d=\"M516,248 L516,256 L828,256 L828,248 \" stroke=\"black\" fill=\"none\"/>\n",
       "</svg>"
      ],
      "text/plain": [
       "<svg viewBox=\"0 0 864 288\"  version=\"1.1\" xmlns=\"http://www.w3.org/2000/svg\">\n",
       "<g id=\"qubit_lines\">\n",
       "<path id=\"qubit_line:0\" d=\"M64,64 L832,64 \" stroke=\"black\"/>\n",
       "<text dominant-baseline=\"central\" text-anchor=\"end\" font-family=\"monospace\" font-size=\"12\" x=\"64\" y=\"64\">q0</text>\n",
       "<path id=\"qubit_line:1\" d=\"M64,128 L832,128 \" stroke=\"black\"/>\n",
       "<text dominant-baseline=\"central\" text-anchor=\"end\" font-family=\"monospace\" font-size=\"12\" x=\"64\" y=\"128\">q1</text>\n",
       "<path id=\"qubit_line:2\" d=\"M64,192 L832,192 \" stroke=\"black\"/>\n",
       "<text dominant-baseline=\"central\" text-anchor=\"end\" font-family=\"monospace\" font-size=\"12\" x=\"64\" y=\"192\">q2</text>\n",
       "</g>\n",
       "<rect x=\"144\" y=\"48\" width=\"32\" height=\"32\" stroke=\"black\" fill=\"black\"/>\n",
       "<text dominant-baseline=\"central\" text-anchor=\"middle\" font-family=\"monospace\" font-size=\"30\" x=\"160\" y=\"64\" fill=\"white\">R</text>\n",
       "<rect x=\"144\" y=\"112\" width=\"32\" height=\"32\" stroke=\"black\" fill=\"black\"/>\n",
       "<text dominant-baseline=\"central\" text-anchor=\"middle\" font-family=\"monospace\" font-size=\"30\" x=\"160\" y=\"128\" fill=\"white\">R</text>\n",
       "<rect x=\"144\" y=\"176\" width=\"32\" height=\"32\" stroke=\"black\" fill=\"black\"/>\n",
       "<text dominant-baseline=\"central\" text-anchor=\"middle\" font-family=\"monospace\" font-size=\"30\" x=\"160\" y=\"192\" fill=\"white\">R</text>\n",
       "<path d=\"M224,64 L224,128 \" stroke=\"black\"/>\n",
       "<rect x=\"208\" y=\"48\" width=\"32\" height=\"32\" stroke=\"black\" fill=\"pink\"/>\n",
       "<text dominant-baseline=\"central\" text-anchor=\"middle\" font-family=\"monospace\" font-size=\"12\" x=\"224\" y=\"64\">DEP<tspan baseline-shift=\"sub\" font-size=\"10\">2</tspan></text>\n",
       "<rect x=\"208\" y=\"112\" width=\"32\" height=\"32\" stroke=\"black\" fill=\"pink\"/>\n",
       "<text dominant-baseline=\"central\" text-anchor=\"middle\" font-family=\"monospace\" font-size=\"12\" x=\"224\" y=\"128\">DEP<tspan baseline-shift=\"sub\" font-size=\"10\">2</tspan></text>\n",
       "<text dominant-baseline=\"hanging\" text-anchor=\"middle\" font-family=\"monospace\" font-size=\"10\" stroke=\"red\" x=\"224\" y=\"148\">0.15</text>\n",
       "<rect x=\"208\" y=\"176\" width=\"32\" height=\"32\" stroke=\"black\" fill=\"white\"/>\n",
       "<text dominant-baseline=\"central\" text-anchor=\"middle\" font-family=\"monospace\" font-size=\"30\" x=\"224\" y=\"192\">H</text>\n",
       "<path d=\"M288,128 L288,192 \" stroke=\"black\"/>\n",
       "<circle cx=\"288\" cy=\"192\" r=\"12\" stroke=\"none\" fill=\"black\"/>\n",
       "<circle cx=\"288\" cy=\"128\" r=\"12\" stroke=\"black\" fill=\"white\"/>\n",
       "<path d=\"M276,128 L300,128 M288,116 L288,140 \" stroke=\"black\"/>\n",
       "<path d=\"M352,64 L352,192 \" stroke=\"black\"/>\n",
       "<circle cx=\"352\" cy=\"192\" r=\"12\" stroke=\"none\" fill=\"black\"/>\n",
       "<circle cx=\"352\" cy=\"64\" r=\"12\" stroke=\"black\" fill=\"white\"/>\n",
       "<path d=\"M340,64 L364,64 M352,52 L352,76 \" stroke=\"black\"/>\n",
       "<path d=\"M416,64 L416,192 \" stroke=\"black\"/>\n",
       "<rect x=\"400\" y=\"176\" width=\"32\" height=\"32\" stroke=\"black\" fill=\"pink\"/>\n",
       "<text dominant-baseline=\"central\" text-anchor=\"middle\" font-family=\"monospace\" font-size=\"12\" x=\"416\" y=\"192\">DEP<tspan baseline-shift=\"sub\" font-size=\"10\">2</tspan></text>\n",
       "<text dominant-baseline=\"hanging\" text-anchor=\"middle\" font-family=\"monospace\" font-size=\"10\" stroke=\"red\" x=\"416\" y=\"212\">0.15</text>\n",
       "<rect x=\"400\" y=\"48\" width=\"32\" height=\"32\" stroke=\"black\" fill=\"pink\"/>\n",
       "<text dominant-baseline=\"central\" text-anchor=\"middle\" font-family=\"monospace\" font-size=\"12\" x=\"416\" y=\"64\">DEP<tspan baseline-shift=\"sub\" font-size=\"10\">2</tspan></text>\n",
       "<rect x=\"464\" y=\"176\" width=\"32\" height=\"32\" stroke=\"black\" fill=\"white\"/>\n",
       "<text dominant-baseline=\"central\" text-anchor=\"middle\" font-family=\"monospace\" font-size=\"30\" x=\"480\" y=\"192\">H</text>\n",
       "<path d=\"M132,40 L132,32 L508,32 L508,40 \" stroke=\"black\" fill=\"none\"/>\n",
       "<path d=\"M132,248 L132,256 L508,256 L508,248 \" stroke=\"black\" fill=\"none\"/>\n",
       "<rect x=\"528\" y=\"48\" width=\"32\" height=\"32\" stroke=\"black\" fill=\"black\"/>\n",
       "<text dominant-baseline=\"central\" text-anchor=\"middle\" font-family=\"monospace\" font-size=\"30\" x=\"544\" y=\"64\" fill=\"white\">M</text>\n",
       "<text text-anchor=\"middle\" font-family=\"monospace\" font-size=\"8\" x=\"544\" y=\"44\">rec[0]</text>\n",
       "<rect x=\"528\" y=\"112\" width=\"32\" height=\"32\" stroke=\"black\" fill=\"black\"/>\n",
       "<text dominant-baseline=\"central\" text-anchor=\"middle\" font-family=\"monospace\" font-size=\"30\" x=\"544\" y=\"128\" fill=\"white\">M</text>\n",
       "<text text-anchor=\"middle\" font-family=\"monospace\" font-size=\"8\" x=\"544\" y=\"108\">rec[1]</text>\n",
       "<rect x=\"528\" y=\"176\" width=\"32\" height=\"32\" stroke=\"black\" fill=\"black\"/>\n",
       "<text dominant-baseline=\"central\" text-anchor=\"middle\" font-family=\"monospace\" font-size=\"30\" x=\"544\" y=\"192\" fill=\"white\">M</text>\n",
       "<text text-anchor=\"middle\" font-family=\"monospace\" font-size=\"8\" x=\"544\" y=\"172\">rec[2]</text>\n",
       "<rect x=\"592\" y=\"176\" width=\"160\" height=\"32\" stroke=\"black\" fill=\"lightgray\"/>\n",
       "<text dominant-baseline=\"central\" text-anchor=\"middle\" font-family=\"monospace\" font-size=\"16\" x=\"672\" y=\"192\">DETECTOR</text>\n",
       "<text text-anchor=\"middle\" font-family=\"monospace\" font-size=\"8\" x=\"672\" y=\"172\">D0 = rec[2]</text>\n",
       "<rect x=\"592\" y=\"48\" width=\"224\" height=\"32\" stroke=\"black\" fill=\"lightgray\"/>\n",
       "<text dominant-baseline=\"central\" text-anchor=\"middle\" font-family=\"monospace\" font-size=\"16\" x=\"704\" y=\"64\">OBS_INCLUDE(0)</text>\n",
       "<text text-anchor=\"middle\" font-family=\"monospace\" font-size=\"8\" x=\"704\" y=\"44\">L0 *= rec[1]*rec[0]</text>\n",
       "<path d=\"M516,40 L516,32 L828,32 L828,40 \" stroke=\"black\" fill=\"none\"/>\n",
       "<path d=\"M516,248 L516,256 L828,256 L828,248 \" stroke=\"black\" fill=\"none\"/>\n",
       "</svg>"
      ]
     },
     "execution_count": 95,
     "metadata": {},
     "output_type": "execute_result"
    }
   ],
   "source": [
    "import stim\n",
    "print(stim.__version__)\n",
    "\n",
    "circuit = stim.Circuit(\"\"\"\n",
    "    TICK\n",
    "    R 0 1 2\n",
    "    DEPOLARIZE2(0.15) 0 1\n",
    "    H 2\n",
    "    CX 2 1\n",
    "    CX 2 0 \n",
    "    DEPOLARIZE2(0.15) 2 0\n",
    "    H 2\n",
    "    TICK\n",
    "\n",
    "    M 0 1 2\n",
    "    \n",
    "    DETECTOR rec[-1]\n",
    "    OBSERVABLE_INCLUDE(0) rec[-2] rec[-3] \n",
    "\"\"\")\n",
    "\n",
    "circuit.diagram('timeline-svg')"
   ]
  },
  {
   "cell_type": "code",
   "execution_count": 96,
   "metadata": {},
   "outputs": [
    {
     "name": "stdout",
     "output_type": "stream",
     "text": [
      "stim.DetectorErrorModel('''\n",
      "    error(0.5) D0\n",
      "    error(0.08) D0 L0\n",
      "    error(0.08) L0\n",
      "''')\n"
     ]
    }
   ],
   "source": [
    "dem = circuit.detector_error_model(approximate_disjoint_errors=True,allow_gauge_detectors=True)\n",
    "\n",
    "print(repr(dem))\n"
   ]
  },
  {
   "cell_type": "code",
   "execution_count": 99,
   "metadata": {},
   "outputs": [
    {
     "name": "stdout",
     "output_type": "stream",
     "text": [
      "syndrome.shape:(1000000, 1), actual_observables.shape:(1000000, 1)\n",
      "count_00:0.42587, count_01:0.073112, count_10:0.427262, count_11:0.073756\n"
     ]
    }
   ],
   "source": [
    "shots = 1000000\n",
    "\n",
    "sampler = circuit.compile_detector_sampler()\n",
    "syndrome, actual_observables = sampler.sample(shots=shots, separate_observables=True)\n",
    "\n",
    "print(f\"syndrome.shape:{syndrome.shape}, actual_observables.shape:{actual_observables.shape}\")\n",
    "\n",
    "count_00 = 0\n",
    "count_01 = 0\n",
    "count_10 = 0\n",
    "count_11 = 0\n",
    "for i in range(shots):\n",
    "    if syndrome[i] == False and actual_observables[i] == False:\n",
    "        count_00 += 1\n",
    "    elif syndrome[i] == False and actual_observables[i] == True:\n",
    "        count_01 += 1\n",
    "    elif syndrome[i] == True and actual_observables[i] == False:\n",
    "        count_10 += 1\n",
    "    elif syndrome[i] == True and actual_observables[i] == True:\n",
    "        count_11 += 1\n",
    "print(f\"count_00:{count_00/shots}, count_01:{count_01/shots}, count_10:{count_10/shots}, count_11:{count_11/shots}\")"
   ]
  },
  {
   "cell_type": "code",
   "execution_count": 98,
   "metadata": {},
   "outputs": [
    {
     "data": {
      "text/plain": [
       "0.42639999999999995"
      ]
     },
     "execution_count": 98,
     "metadata": {},
     "output_type": "execute_result"
    }
   ],
   "source": [
    "0.46*0.88+0.04*0.04+0.46*0.04+0.04*0.04"
   ]
  },
  {
   "cell_type": "code",
   "execution_count": 89,
   "metadata": {},
   "outputs": [
    {
     "ename": "ValueError",
     "evalue": "The circuit contains non-deterministic detectors.\n(To allow non-deterministic detectors, use the `allow_gauge_detectors` option.)\n\nThis was discovered while analyzing a Z-basis reset (R) on:\n    qubit 1\n\nThe collapse anti-commuted with these detectors/observables:\n    D0\n\nThe backward-propagating error sensitivity for D0 was:\n    X0\n    X1\n\nCircuit stack trace:\n    during TICK layer #2 of 3\n    at instruction #2 [which is R 0 1 2]",
     "output_type": "error",
     "traceback": [
      "\u001b[1;31m---------------------------------------------------------------------------\u001b[0m",
      "\u001b[1;31mValueError\u001b[0m                                Traceback (most recent call last)",
      "Cell \u001b[1;32mIn[89], line 1\u001b[0m\n\u001b[1;32m----> 1\u001b[0m dem \u001b[38;5;241m=\u001b[39m \u001b[43mcircuit\u001b[49m\u001b[38;5;241;43m.\u001b[39;49m\u001b[43mdetector_error_model\u001b[49m\u001b[43m(\u001b[49m\u001b[43m)\u001b[49m\n\u001b[0;32m      3\u001b[0m \u001b[38;5;28mprint\u001b[39m(\u001b[38;5;28mrepr\u001b[39m(dem))\n",
      "\u001b[1;31mValueError\u001b[0m: The circuit contains non-deterministic detectors.\n(To allow non-deterministic detectors, use the `allow_gauge_detectors` option.)\n\nThis was discovered while analyzing a Z-basis reset (R) on:\n    qubit 1\n\nThe collapse anti-commuted with these detectors/observables:\n    D0\n\nThe backward-propagating error sensitivity for D0 was:\n    X0\n    X1\n\nCircuit stack trace:\n    during TICK layer #2 of 3\n    at instruction #2 [which is R 0 1 2]"
     ]
    }
   ],
   "source": [
    "dem = circuit.detector_error_model()\n",
    "\n",
    "print(repr(dem))"
   ]
  },
  {
   "cell_type": "code",
   "execution_count": 25,
   "metadata": {},
   "outputs": [
    {
     "ename": "ValueError",
     "evalue": "The circuit contains non-deterministic detectors.\n(To allow non-deterministic detectors, use the `allow_gauge_detectors` option.)\n\nThis was discovered while analyzing qubit initialization into |0> at the start of the circuit on:\n    qubit 1\n\nThe collapse anti-commuted with these detectors/observables:\n    D2\n\nThe backward-propagating error sensitivity for D2 was:\n    X1\n    Z2",
     "output_type": "error",
     "traceback": [
      "\u001b[1;31m---------------------------------------------------------------------------\u001b[0m",
      "\u001b[1;31mValueError\u001b[0m                                Traceback (most recent call last)",
      "Cell \u001b[1;32mIn[25], line 1\u001b[0m\n\u001b[1;32m----> 1\u001b[0m dem \u001b[38;5;241m=\u001b[39m \u001b[43mcircuit\u001b[49m\u001b[38;5;241;43m.\u001b[39;49m\u001b[43mdetector_error_model\u001b[49m\u001b[43m(\u001b[49m\u001b[43mdecompose_errors\u001b[49m\u001b[38;5;241;43m=\u001b[39;49m\u001b[38;5;28;43;01mTrue\u001b[39;49;00m\u001b[43m)\u001b[49m\n\u001b[0;32m      3\u001b[0m \u001b[38;5;28mprint\u001b[39m(\u001b[38;5;28mrepr\u001b[39m(dem))\n",
      "\u001b[1;31mValueError\u001b[0m: The circuit contains non-deterministic detectors.\n(To allow non-deterministic detectors, use the `allow_gauge_detectors` option.)\n\nThis was discovered while analyzing qubit initialization into |0> at the start of the circuit on:\n    qubit 1\n\nThe collapse anti-commuted with these detectors/observables:\n    D2\n\nThe backward-propagating error sensitivity for D2 was:\n    X1\n    Z2"
     ]
    }
   ],
   "source": [
    "dem = circuit.detector_error_model(decompose_errors=True)\n",
    "\n",
    "print(repr(dem))"
   ]
  },
  {
   "cell_type": "code",
   "execution_count": 31,
   "metadata": {},
   "outputs": [
    {
     "name": "stdout",
     "output_type": "stream",
     "text": [
      "stim.DetectorErrorModel('''\n",
      "    error(0.021326) D0\n",
      "    error(0.021326) D0 D1\n",
      "    error(0.021326) D0 D1 D2\n",
      "    error(0.021326) D0 D2\n",
      "    error(0.5) D1\n",
      "    error(0.021326) D1 D2\n",
      "    error(0.5) D2\n",
      "''')\n"
     ]
    }
   ],
   "source": [
    "circuit = stim.Circuit(\"\"\"\n",
    "    TICK\n",
    "    DEPOLARIZE2(0.15) 0 1\n",
    "    H 2\n",
    "    CX 2 1\n",
    "    H 2\n",
    "    TICK\n",
    "\n",
    "    X_ERROR(0.1) 2\n",
    "    M 0 1 2\n",
    "    \n",
    "    DETECTOR rec[-3] \n",
    "    DETECTOR rec[-2] \n",
    "    DETECTOR rec[-1]\n",
    "\"\"\")\n",
    "dem = circuit.detector_error_model(allow_gauge_detectors=True)\n",
    "\n",
    "print(repr(dem))"
   ]
  },
  {
   "cell_type": "code",
   "execution_count": 1,
   "metadata": {},
   "outputs": [
    {
     "name": "stdout",
     "output_type": "stream",
     "text": [
      "1.13.0\n",
      "stim.DetectorErrorModel('''\n",
      "    error(0.15) D0 D1\n",
      "''')\n"
     ]
    }
   ],
   "source": [
    "import stim\n",
    "print(stim.__version__)\n",
    "\n",
    "circuit = stim.Circuit(\"\"\"\n",
    "    TICK\n",
    "    CORRELATED_ERROR(0.15) X0 X1\n",
    "    TICK\n",
    "\n",
    "    M 0 1\n",
    "    \n",
    "    DETECTOR rec[-2] \n",
    "    DETECTOR rec[-1] \n",
    "\"\"\")\n",
    "\n",
    "dem = circuit.detector_error_model()\n",
    "print(repr(dem))"
   ]
  }
 ],
 "metadata": {
  "kernelspec": {
   "display_name": "google_qec",
   "language": "python",
   "name": "python3"
  },
  "language_info": {
   "codemirror_mode": {
    "name": "ipython",
    "version": 3
   },
   "file_extension": ".py",
   "mimetype": "text/x-python",
   "name": "python",
   "nbconvert_exporter": "python",
   "pygments_lexer": "ipython3",
   "version": "3.8.19"
  }
 },
 "nbformat": 4,
 "nbformat_minor": 2
}
