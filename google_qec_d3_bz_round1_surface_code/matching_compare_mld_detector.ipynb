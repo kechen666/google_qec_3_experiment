{
 "cells": [
  {
   "cell_type": "markdown",
   "metadata": {},
   "source": [
    "## 在噪声模型下，基于超图解码的MLD方法与基于图的Matching方法之间的差别"
   ]
  },
  {
   "cell_type": "markdown",
   "metadata": {},
   "source": [
    "读取一些不同d和r的stim噪声电路"
   ]
  },
  {
   "cell_type": "code",
   "execution_count": null,
   "metadata": {},
   "outputs": [],
   "source": [
    "import stim\n",
    "\n",
    "circuit_noisy = stim.Circuit.from_file(\"./surface_code_bZ_d3_r01_center_3_5/circuit_noisy.stim\")\n",
    "\n",
    "detector_error_model_no_decompose_errors = circuit_noisy.detector_error_model()"
   ]
  }
 ],
 "metadata": {
  "kernelspec": {
   "display_name": "google_qec",
   "language": "python",
   "name": "python3"
  },
  "language_info": {
   "name": "python",
   "version": "3.8.19"
  }
 },
 "nbformat": 4,
 "nbformat_minor": 2
}
