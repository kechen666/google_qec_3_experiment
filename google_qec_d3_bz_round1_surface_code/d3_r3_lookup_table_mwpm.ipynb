{
 "cells": [
  {
   "cell_type": "code",
   "execution_count": 1,
   "metadata": {},
   "outputs": [],
   "source": [
    "import stim\n",
    "import stimcirq"
   ]
  },
  {
   "cell_type": "code",
   "execution_count": 8,
   "metadata": {},
   "outputs": [],
   "source": [
    "circuit_noisy = stim.Circuit.from_file(\"./surface_code_bZ_d3_r03_center_3_5/circuit_noisy.stim\")\n",
    "\n",
    "detector_error_model = circuit_noisy.detector_error_model(decompose_errors=True)\n"
   ]
  },
  {
   "cell_type": "code",
   "execution_count": 12,
   "metadata": {},
   "outputs": [
    {
     "ename": "KeyboardInterrupt",
     "evalue": "",
     "output_type": "error",
     "traceback": [
      "\u001b[1;31m---------------------------------------------------------------------------\u001b[0m",
      "\u001b[1;31mKeyboardInterrupt\u001b[0m                         Traceback (most recent call last)",
      "Cell \u001b[1;32mIn[12], line 66\u001b[0m\n\u001b[0;32m     63\u001b[0m             error_model \u001b[38;5;241m=\u001b[39m table\n\u001b[0;32m     64\u001b[0m     \u001b[38;5;28;01mreturn\u001b[39;00m error_model\n\u001b[1;32m---> 66\u001b[0m error_model \u001b[38;5;241m=\u001b[39m \u001b[43mget_error_model\u001b[49m\u001b[43m(\u001b[49m\u001b[43mdetector_error_model\u001b[49m\u001b[38;5;241;43m=\u001b[39;49m\u001b[43mdetector_error_model\u001b[49m\u001b[43m,\u001b[49m\u001b[43m \u001b[49m\u001b[43mdetector_number\u001b[49m\u001b[38;5;241;43m=\u001b[39;49m\u001b[43mdetector_error_model\u001b[49m\u001b[38;5;241;43m.\u001b[39;49m\u001b[43mnum_detectors\u001b[49m\u001b[43m)\u001b[49m\n",
      "Cell \u001b[1;32mIn[12], line 58\u001b[0m, in \u001b[0;36mget_error_model\u001b[1;34m(detector_error_model, detector_number)\u001b[0m\n\u001b[0;32m     55\u001b[0m no_flip_detector_even_str \u001b[38;5;241m=\u001b[39m detector_even_str\n\u001b[0;32m     56\u001b[0m no_flip_probability \u001b[38;5;241m=\u001b[39m detector_even_probability \u001b[38;5;241m*\u001b[39m (\u001b[38;5;241m1\u001b[39m\u001b[38;5;241m-\u001b[39mprobability)\n\u001b[1;32m---> 58\u001b[0m flip_detector_even_str \u001b[38;5;241m=\u001b[39m \u001b[43mflip_detector_even_str_by_flip_index\u001b[49m\u001b[43m(\u001b[49m\u001b[43mdetector_even_str\u001b[49m\u001b[43m,\u001b[49m\u001b[43m \u001b[49m\u001b[43mflip_index\u001b[49m\u001b[43m)\u001b[49m\n\u001b[0;32m     59\u001b[0m flip_probability \u001b[38;5;241m=\u001b[39m detector_even_probability \u001b[38;5;241m*\u001b[39m probability\n\u001b[0;32m     61\u001b[0m table[no_flip_detector_even_str] \u001b[38;5;241m=\u001b[39m table\u001b[38;5;241m.\u001b[39mget(no_flip_detector_even_str, \u001b[38;5;241m0\u001b[39m) \u001b[38;5;241m+\u001b[39m no_flip_probability\n",
      "Cell \u001b[1;32mIn[12], line 34\u001b[0m, in \u001b[0;36mflip_detector_even_str_by_flip_index\u001b[1;34m(detector_even_str, flip_index)\u001b[0m\n\u001b[0;32m     32\u001b[0m \u001b[38;5;28;01mfor\u001b[39;00m i \u001b[38;5;129;01min\u001b[39;00m flip_index:\n\u001b[0;32m     33\u001b[0m     \u001b[38;5;28;01mif\u001b[39;00m detector_even_str[i] \u001b[38;5;241m==\u001b[39m \u001b[38;5;124m'\u001b[39m\u001b[38;5;124m0\u001b[39m\u001b[38;5;124m'\u001b[39m:\n\u001b[1;32m---> 34\u001b[0m         flip_detector_even_str \u001b[38;5;241m=\u001b[39m flip_detector_even_str[:i]\u001b[38;5;241m+\u001b[39m\u001b[38;5;124m'\u001b[39m\u001b[38;5;124m1\u001b[39m\u001b[38;5;124m'\u001b[39m\u001b[38;5;241m+\u001b[39mflip_detector_even_str[i\u001b[38;5;241m+\u001b[39m\u001b[38;5;241m1\u001b[39m:]\n\u001b[0;32m     35\u001b[0m     \u001b[38;5;28;01melse\u001b[39;00m:\n\u001b[0;32m     36\u001b[0m         flip_detector_even_str \u001b[38;5;241m=\u001b[39m flip_detector_even_str[:i]\u001b[38;5;241m+\u001b[39m\u001b[38;5;124m'\u001b[39m\u001b[38;5;124m0\u001b[39m\u001b[38;5;124m'\u001b[39m\u001b[38;5;241m+\u001b[39mflip_detector_even_str[i\u001b[38;5;241m+\u001b[39m\u001b[38;5;241m1\u001b[39m:]\n",
      "\u001b[1;31mKeyboardInterrupt\u001b[0m: "
     ]
    }
   ],
   "source": [
    "def get_detector_val(targets_copy):\n",
    "    target_val = []\n",
    "    for target in targets_copy:\n",
    "        if target.is_relative_detector_id():\n",
    "            target_val.append(target.val)\n",
    "    return target_val\n",
    "def get_logical_observable_val(targets_copy):\n",
    "    target_val = []\n",
    "    for target in targets_copy:\n",
    "        if target.is_logical_observable_id():\n",
    "            target_val.append(target.val)\n",
    "    return target_val\n",
    "\n",
    "def get_flip_index(detector_val, logical_observable_val, detector_number):\n",
    "    flip_index = []\n",
    "    for detector in detector_val:\n",
    "        if detector not in flip_index:\n",
    "            flip_index.append(detector)\n",
    "        else:\n",
    "            flip_index.remove(detector)\n",
    "    for logical_observable in logical_observable_val:\n",
    "        logical_observable = logical_observable+detector_number\n",
    "        if logical_observable not in flip_index:\n",
    "            flip_index.append(logical_observable)\n",
    "        else:\n",
    "            flip_index.remove(logical_observable)\n",
    "    return flip_index\n",
    "\n",
    "def flip_detector_even_str_by_flip_index(detector_even_str, flip_index):\n",
    "    flip_detector_even_str = detector_even_str\n",
    "    \n",
    "    for i in flip_index:\n",
    "        if detector_even_str[i] == '0':\n",
    "            flip_detector_even_str = flip_detector_even_str[:i]+'1'+flip_detector_even_str[i+1:]\n",
    "        else:\n",
    "            flip_detector_even_str = flip_detector_even_str[:i]+'0'+flip_detector_even_str[i+1:]\n",
    "    \n",
    "    return flip_detector_even_str\n",
    "def get_error_model(detector_error_model, detector_number):\n",
    "    # detector_number = 8\n",
    "    \n",
    "    initial_detector_even_str = '0'*(detector_number+1)\n",
    "    error_model = {}\n",
    "    error_model[initial_detector_even_str] = 1\n",
    "    n=0\n",
    "    for error in detector_error_model:\n",
    "        print(f\"n={n}\")\n",
    "        n = n+1\n",
    "        if error.type == \"error\":\n",
    "            probability = error.args_copy()[0]\n",
    "            targets_copy = error.targets_copy()\n",
    "            detector_val = get_detector_val(targets_copy)\n",
    "            logical_observable_val = get_logical_observable_val(targets_copy)\n",
    "            flip_index = get_flip_index(detector_val, logical_observable_val, detector_number)\n",
    "            \n",
    "            table = {}\n",
    "            for detector_even_str, detector_even_probability in error_model.items():\n",
    "                no_flip_detector_even_str = detector_even_str\n",
    "                no_flip_probability = detector_even_probability * (1-probability)\n",
    "                \n",
    "                flip_detector_even_str = flip_detector_even_str_by_flip_index(detector_even_str, flip_index)\n",
    "                flip_probability = detector_even_probability * probability\n",
    "                \n",
    "                table[no_flip_detector_even_str] = table.get(no_flip_detector_even_str, 0) + no_flip_probability\n",
    "                table[flip_detector_even_str] = table.get(flip_detector_even_str, 0) + flip_probability\n",
    "            error_model = table\n",
    "    return error_model\n",
    "\n",
    "error_model = get_error_model(detector_error_model=detector_error_model, detector_number=detector_error_model.num_detectors)"
   ]
  },
  {
   "cell_type": "code",
   "execution_count": 13,
   "metadata": {},
   "outputs": [
    {
     "data": {
      "text/plain": [
       "327"
      ]
     },
     "execution_count": 13,
     "metadata": {},
     "output_type": "execute_result"
    }
   ],
   "source": [
    "len(detector_error_model)"
   ]
  }
 ],
 "metadata": {
  "kernelspec": {
   "display_name": "google_qec",
   "language": "python",
   "name": "python3"
  },
  "language_info": {
   "codemirror_mode": {
    "name": "ipython",
    "version": 3
   },
   "file_extension": ".py",
   "mimetype": "text/x-python",
   "name": "python",
   "nbconvert_exporter": "python",
   "pygments_lexer": "ipython3",
   "version": "3.8.19"
  }
 },
 "nbformat": 4,
 "nbformat_minor": 2
}
