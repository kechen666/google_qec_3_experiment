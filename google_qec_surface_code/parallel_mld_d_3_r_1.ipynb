{
 "cells": [
  {
   "cell_type": "markdown",
   "metadata": {},
   "source": [
    "## 研究d=3，r=1的情况下，是否能够进行并行加速？"
   ]
  },
  {
   "cell_type": "code",
   "execution_count": 1,
   "metadata": {},
   "outputs": [],
   "source": [
    "from MLD import MaxLikelihoodDecoder\n",
    "import stim\n",
    "\n",
    "circuit_noisy = stim.Circuit.from_file(\"./data/surface_code_bZ_d3_r01_center_3_5/circuit_noisy.stim\")\n",
    "detector_error_model = circuit_noisy.detector_error_model()\n",
    "\n",
    "ml_decoder = MaxLikelihoodDecoder(detector_error_model, detector_error_model.num_detectors)\n",
    "# 计算每个节点的相邻节点\n",
    "detector_connectivity = ml_decoder.compute_detector_connectivity(have_logical_observable=False)"
   ]
  },
  {
   "cell_type": "code",
   "execution_count": 2,
   "metadata": {},
   "outputs": [],
   "source": [
    "import mld_analysis\n",
    "import config"
   ]
  },
  {
   "cell_type": "code",
   "execution_count": 3,
   "metadata": {},
   "outputs": [
    {
     "name": "stderr",
     "output_type": "stream",
     "text": [
      "2024-10-16 16:46:18,679 - mld_analysis - DEBUG - step: 0\n",
      "2024-10-16 16:46:18,681 - mld_analysis - DEBUG - detector is:D1\n",
      "2024-10-16 16:46:18,682 - mld_analysis - DEBUG - current_distribution_dimensions: 2, size is: 4\n",
      "2024-10-16 16:46:18,684 - mld_analysis - DEBUG - currently_calculated_nodes: ['D1']\n",
      "2024-10-16 16:46:18,685 - mld_analysis - DEBUG - current_distribution_related_nodes: {'D1', 'D3', 'D5'}\n",
      "2024-10-16 16:46:18,686 - mld_analysis - DEBUG - current_neighboring_nodes: ['D3', 'D5']\n",
      "2024-10-16 16:46:18,687 - mld_analysis - DEBUG - step: 1\n",
      "2024-10-16 16:46:18,688 - mld_analysis - DEBUG - detector is:D3\n",
      "2024-10-16 16:46:18,689 - mld_analysis - DEBUG - current_distribution_dimensions: 3, size is: 8\n",
      "2024-10-16 16:46:18,690 - mld_analysis - DEBUG - currently_calculated_nodes: ['D1', 'D3']\n",
      "2024-10-16 16:46:18,692 - mld_analysis - DEBUG - current_distribution_related_nodes: {'D1', 'D5', 'D0', 'D7', 'D3'}\n",
      "2024-10-16 16:46:18,693 - mld_analysis - DEBUG - current_neighboring_nodes: ['D5', 'D0', 'D7']\n",
      "2024-10-16 16:46:18,695 - mld_analysis - DEBUG - step: 2\n",
      "2024-10-16 16:46:18,697 - mld_analysis - DEBUG - detector is:D5\n",
      "2024-10-16 16:46:18,698 - mld_analysis - DEBUG - current_distribution_dimensions: 2, size is: 4\n",
      "2024-10-16 16:46:18,699 - mld_analysis - DEBUG - currently_calculated_nodes: ['D1', 'D3', 'D5']\n",
      "2024-10-16 16:46:18,700 - mld_analysis - DEBUG - current_distribution_related_nodes: {'D1', 'D5', 'D0', 'D7', 'D3'}\n",
      "2024-10-16 16:46:18,700 - mld_analysis - DEBUG - current_neighboring_nodes: ['D0', 'D7']\n",
      "2024-10-16 16:46:18,701 - mld_analysis - DEBUG - step: 3\n",
      "2024-10-16 16:46:18,702 - mld_analysis - DEBUG - detector is:D0\n",
      "2024-10-16 16:46:18,704 - mld_analysis - DEBUG - current_distribution_dimensions: 3, size is: 8\n",
      "2024-10-16 16:46:18,705 - mld_analysis - DEBUG - currently_calculated_nodes: ['D1', 'D3', 'D5', 'D0']\n",
      "2024-10-16 16:46:18,706 - mld_analysis - DEBUG - current_distribution_related_nodes: {'D4', 'D1', 'D5', 'D0', 'D7', 'D2', 'D3'}\n",
      "2024-10-16 16:46:18,707 - mld_analysis - DEBUG - current_neighboring_nodes: ['D4', 'D7', 'D2']\n",
      "2024-10-16 16:46:18,708 - mld_analysis - DEBUG - step: 4\n",
      "2024-10-16 16:46:18,710 - mld_analysis - DEBUG - detector is:D7\n",
      "2024-10-16 16:46:18,711 - mld_analysis - DEBUG - current_distribution_dimensions: 2, size is: 4\n",
      "2024-10-16 16:46:18,712 - mld_analysis - DEBUG - currently_calculated_nodes: ['D1', 'D3', 'D5', 'D0', 'D7']\n",
      "2024-10-16 16:46:18,713 - mld_analysis - DEBUG - current_distribution_related_nodes: {'D4', 'D1', 'D5', 'D0', 'D7', 'D2', 'D3'}\n",
      "2024-10-16 16:46:18,714 - mld_analysis - DEBUG - current_neighboring_nodes: ['D4', 'D2']\n",
      "2024-10-16 16:46:18,715 - mld_analysis - DEBUG - step: 5\n",
      "2024-10-16 16:46:18,715 - mld_analysis - DEBUG - detector is:D4\n",
      "2024-10-16 16:46:18,716 - mld_analysis - DEBUG - current_distribution_dimensions: 2, size is: 4\n",
      "2024-10-16 16:46:18,717 - mld_analysis - DEBUG - currently_calculated_nodes: ['D1', 'D3', 'D5', 'D0', 'D7', 'D4']\n",
      "2024-10-16 16:46:18,719 - mld_analysis - DEBUG - current_distribution_related_nodes: {'D4', 'D1', 'D5', 'D0', 'D7', 'D6', 'D2', 'D3'}\n",
      "2024-10-16 16:46:18,719 - mld_analysis - DEBUG - current_neighboring_nodes: ['D6', 'D2']\n",
      "2024-10-16 16:46:18,720 - mld_analysis - DEBUG - step: 6\n",
      "2024-10-16 16:46:18,721 - mld_analysis - DEBUG - detector is:D6\n",
      "2024-10-16 16:46:18,722 - mld_analysis - DEBUG - current_distribution_dimensions: 1, size is: 2\n",
      "2024-10-16 16:46:18,723 - mld_analysis - DEBUG - currently_calculated_nodes: ['D1', 'D3', 'D5', 'D0', 'D7', 'D4', 'D6']\n",
      "2024-10-16 16:46:18,725 - mld_analysis - DEBUG - current_distribution_related_nodes: {'D4', 'D1', 'D5', 'D0', 'D7', 'D6', 'D2', 'D3'}\n",
      "2024-10-16 16:46:18,726 - mld_analysis - DEBUG - current_neighboring_nodes: ['D2']\n",
      "2024-10-16 16:46:18,729 - mld_analysis - DEBUG - step: 7\n",
      "2024-10-16 16:46:18,730 - mld_analysis - DEBUG - detector is:D2\n",
      "2024-10-16 16:46:18,732 - mld_analysis - DEBUG - current_distribution_dimensions: 0, size is: 1\n",
      "2024-10-16 16:46:18,733 - mld_analysis - DEBUG - currently_calculated_nodes: ['D1', 'D3', 'D5', 'D0', 'D7', 'D4', 'D6', 'D2']\n",
      "2024-10-16 16:46:18,734 - mld_analysis - DEBUG - current_distribution_related_nodes: {'D4', 'D1', 'D5', 'D0', 'D7', 'D6', 'D2', 'D3'}\n",
      "2024-10-16 16:46:18,736 - mld_analysis - DEBUG - current_neighboring_nodes: []\n",
      "2024-10-16 16:46:18,737 - mld_analysis - DEBUG - max_distribution_dimensions:3\n"
     ]
    },
    {
     "data": {
      "text/plain": [
       "3"
      ]
     },
     "execution_count": 3,
     "metadata": {},
     "output_type": "execute_result"
    }
   ],
   "source": [
    "config.setup_logging(environment='development', log_file_name = \"parallel_mld_d_3_r_1.log\")\n",
    "mld_analysis.Greedy_MLD_max_dimensions(detector_error_model)"
   ]
  },
  {
   "cell_type": "code",
   "execution_count": 4,
   "metadata": {},
   "outputs": [
    {
     "data": {
      "text/plain": [
       "stim.DetectorErrorModel('''\n",
       "    error(0.009889) D0 D2\n",
       "    error(0.00341035) D0 D3\n",
       "    error(0.0329122) D0 D4\n",
       "    error(0.00433956) D0 D5\n",
       "    error(0.00921673) D0 D7\n",
       "    error(0.0145061) D0 L0\n",
       "    error(0.00400415) D1 D3\n",
       "    error(0.0299506) D1 D5\n",
       "    error(0.00278521) D1 L0\n",
       "    error(0.00965131) D2\n",
       "    error(0.00488075) D2 D4\n",
       "    error(0.0252629) D2 D6\n",
       "    error(0.00467753) D2 D7\n",
       "    error(0.0176977) D3\n",
       "    error(0.00325365) D3 D5\n",
       "    error(0.0357146) D3 D7\n",
       "    error(0.0139548) D4 D6\n",
       "    error(0.0160334) D4 D7\n",
       "    error(0.0626966) D4 L0\n",
       "    error(0.0226447) D5 D7\n",
       "    error(0.0197193) D5 L0\n",
       "    error(0.0108271) D6\n",
       "    error(0.0564801) D7\n",
       "    detector(2, 5, 0) D0\n",
       "    detector(4, 3, 0) D1\n",
       "    detector(2, 7, 0) D2\n",
       "    detector(4, 5, 0) D3\n",
       "    detector(2, 5, 1) D4\n",
       "    detector(4, 3, 1) D5\n",
       "    detector(2, 7, 1) D6\n",
       "    detector(4, 5, 1) D7\n",
       "''')"
      ]
     },
     "execution_count": 4,
     "metadata": {},
     "output_type": "execute_result"
    },
    {
     "ename": "",
     "evalue": "",
     "output_type": "error",
     "traceback": [
      "\u001b[1;31mThe Kernel crashed while executing code in the current cell or a previous cell. \n",
      "\u001b[1;31mPlease review the code in the cell(s) to identify a possible cause of the failure. \n",
      "\u001b[1;31mClick <a href='https://aka.ms/vscodeJupyterKernelCrash'>here</a> for more info. \n",
      "\u001b[1;31mView Jupyter <a href='command:jupyter.viewOutput'>log</a> for further details."
     ]
    }
   ],
   "source": [
    "detector_error_model"
   ]
  }
 ],
 "metadata": {
  "kernelspec": {
   "display_name": "google_qec_decoder",
   "language": "python",
   "name": "python3"
  },
  "language_info": {
   "codemirror_mode": {
    "name": "ipython",
    "version": 3
   },
   "file_extension": ".py",
   "mimetype": "text/x-python",
   "name": "python",
   "nbconvert_exporter": "python",
   "pygments_lexer": "ipython3",
   "version": "3.10.15"
  }
 },
 "nbformat": 4,
 "nbformat_minor": 2
}
